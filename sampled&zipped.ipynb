{
 "cells": [
  {
   "cell_type": "code",
   "execution_count": 1,
   "id": "6c16043d",
   "metadata": {
    "_cell_guid": "b1076dfc-b9ad-4769-8c92-a6c4dae69d19",
    "_uuid": "8f2839f25d086af736a60e9eeb907d3b93b6e0e5",
    "execution": {
     "iopub.execute_input": "2025-04-11T17:48:53.091964Z",
     "iopub.status.busy": "2025-04-11T17:48:53.091583Z",
     "iopub.status.idle": "2025-04-11T17:51:06.522784Z",
     "shell.execute_reply": "2025-04-11T17:51:06.521331Z"
    },
    "papermill": {
     "duration": 133.438005,
     "end_time": "2025-04-11T17:51:06.525597",
     "exception": false,
     "start_time": "2025-04-11T17:48:53.087592",
     "status": "completed"
    },
    "tags": []
   },
   "outputs": [
    {
     "name": "stdout",
     "output_type": "stream",
     "text": [
      "📦 Sampling 25 videos from: Abuse\n",
      "📦 Sampling 25 videos from: Arrest\n",
      "📦 Sampling 25 videos from: Arson\n",
      "📦 Sampling 25 videos from: Assault\n",
      "📦 Sampling 25 videos from: Burglary\n",
      "📦 Sampling 25 videos from: Explosion\n",
      "📦 Sampling 25 videos from: Fighting\n",
      "📦 Sampling 25 videos from: RoadAccidents\n",
      "📦 Sampling 25 videos from: Robbery\n",
      "📦 Sampling 25 videos from: Shooting\n",
      "📦 Sampling 25 videos from: Shoplifting\n",
      "📦 Sampling 25 videos from: Stealing\n",
      "📦 Sampling 25 videos from: Vandalism\n",
      "📦 Sampling 25 videos from: z_Normal_Videos_event\n",
      "\n",
      "✅ Sampling complete!\n",
      "📂 All videos saved to: /kaggle/working/sampled_ucf_videos/videos\n",
      "📝 Annotations saved to: /kaggle/working/sampled_ucf_videos/sampled_annotations.json\n",
      "\n",
      "📊 Category sampling summary:\n",
      " - Abuse: 25 videos\n",
      " - Arrest: 25 videos\n",
      " - Arson: 25 videos\n",
      " - Assault: 25 videos\n",
      " - Burglary: 25 videos\n",
      " - Explosion: 25 videos\n",
      " - Fighting: 25 videos\n",
      " - RoadAccidents: 25 videos\n",
      " - Robbery: 25 videos\n",
      " - Shooting: 25 videos\n",
      " - Shoplifting: 25 videos\n",
      " - Stealing: 25 videos\n",
      " - Vandalism: 25 videos\n",
      " - z_Normal_Videos_event: 25 videos\n",
      "\n",
      "📦 Total videos sampled: 350\n"
     ]
    }
   ],
   "source": [
    "import os\n",
    "import json\n",
    "import random\n",
    "import shutil\n",
    "from collections import defaultdict\n",
    "\n",
    "# === Paths ===\n",
    "VIDEO_DIR = \"/kaggle/input/ucaucf-crime-annotation-dataset/UCF_Crimes/UCF_Crimes/Videos\"\n",
    "ANNOTATION_JSON_PATH = \"/kaggle/input/ucaucf-crime-annotation-dataset/UCFCrime_Train.json\"\n",
    "OUTPUT_DIR = \"/kaggle/working/sampled_ucf_videos\"\n",
    "FLAT_VIDEO_DIR = os.path.join(OUTPUT_DIR, \"videos\")\n",
    "OUTPUT_JSON_PATH = os.path.join(OUTPUT_DIR, \"sampled_annotations.json\")\n",
    "\n",
    "# === Target Categories (explicit)\n",
    "TARGET_CATEGORIES = [\n",
    "    \"Abuse\", \"Arrest\", \"Arson\", \"Assault\", \"Burglary\", \"Explosion\",\n",
    "    \"Fighting\", \"RoadAccidents\", \"Robbery\", \"Shooting\", \"Shoplifting\",\n",
    "    \"Stealing\", \"Vandalism\", \"z_Normal_Videos_event\"\n",
    "]\n",
    "\n",
    "SAMPLES_PER_CATEGORY = 25\n",
    "\n",
    "# === Load Annotations ===\n",
    "with open(ANNOTATION_JSON_PATH, \"r\") as f:\n",
    "    annotations = json.load(f)\n",
    "\n",
    "# === Prepare output folders ===\n",
    "os.makedirs(FLAT_VIDEO_DIR, exist_ok=True)\n",
    "\n",
    "# === Initialize sampled dataset\n",
    "sampled_data = {}\n",
    "category_sample_counts = {}\n",
    "\n",
    "# === Process real categories\n",
    "for category in TARGET_CATEGORIES:\n",
    "    category_path = os.path.join(VIDEO_DIR, category)\n",
    "    if not os.path.isdir(category_path):\n",
    "        print(f\"❌ Skipping missing category folder: {category}\")\n",
    "        continue\n",
    "\n",
    "    # Get video files\n",
    "    all_files = [\n",
    "        f for f in os.listdir(category_path)\n",
    "        if f.endswith(('.mp4', '.avi', '.mkv'))\n",
    "    ]\n",
    "\n",
    "    if not all_files:\n",
    "        print(f\"⚠️ No video files found in: {category}\")\n",
    "        continue\n",
    "\n",
    "    sample_size = min(SAMPLES_PER_CATEGORY, len(all_files))\n",
    "    sampled_files = random.sample(all_files, sample_size)\n",
    "    category_sample_counts[category] = sample_size\n",
    "\n",
    "    print(f\"📦 Sampling {sample_size} videos from: {category}\")\n",
    "\n",
    "    for filename in sampled_files:\n",
    "        src = os.path.join(category_path, filename)\n",
    "        dst = os.path.join(FLAT_VIDEO_DIR, filename)\n",
    "        shutil.copy2(src, dst)\n",
    "\n",
    "        video_name = os.path.splitext(filename)[0]\n",
    "        if video_name in annotations:\n",
    "            sampled_data[video_name] = annotations[video_name]\n",
    "        else:\n",
    "            # If not annotated (e.g., normal), insert placeholder\n",
    "            sampled_data[video_name] = {\n",
    "                \"duration\": 0,\n",
    "                \"timestamps\": [],\n",
    "                \"sentences\": [\"Normal activity\"]\n",
    "            }\n",
    "\n",
    "# === Save new annotations file\n",
    "with open(OUTPUT_JSON_PATH, \"w\") as out_json:\n",
    "    json.dump(sampled_data, out_json, indent=4)\n",
    "\n",
    "# === Summary\n",
    "print(\"\\n✅ Sampling complete!\")\n",
    "print(f\"📂 All videos saved to: {FLAT_VIDEO_DIR}\")\n",
    "print(f\"📝 Annotations saved to: {OUTPUT_JSON_PATH}\")\n",
    "print(f\"\\n📊 Category sampling summary:\")\n",
    "for cat, count in category_sample_counts.items():\n",
    "    print(f\" - {cat}: {count} videos\")\n",
    "print(f\"\\n📦 Total videos sampled: {len(sampled_data)}\")\n"
   ]
  },
  {
   "cell_type": "code",
   "execution_count": 2,
   "id": "d234469a",
   "metadata": {
    "execution": {
     "iopub.execute_input": "2025-04-11T17:51:06.535805Z",
     "iopub.status.busy": "2025-04-11T17:51:06.535431Z",
     "iopub.status.idle": "2025-04-11T17:58:43.118641Z",
     "shell.execute_reply": "2025-04-11T17:58:43.116900Z"
    },
    "papermill": {
     "duration": 456.601734,
     "end_time": "2025-04-11T17:58:43.132891",
     "exception": false,
     "start_time": "2025-04-11T17:51:06.531157",
     "status": "completed"
    },
    "tags": []
   },
   "outputs": [
    {
     "data": {
      "text/plain": [
       "'/kaggle/working/sampled_ucf_videos.zip'"
      ]
     },
     "execution_count": 2,
     "metadata": {},
     "output_type": "execute_result"
    }
   ],
   "source": [
    "import shutil\n",
    "\n",
    "# Compress the folder into a .zip file\n",
    "shutil.make_archive('/kaggle/working/sampled_ucf_videos', 'zip', '/kaggle/working/sampled_ucf_videos')\n"
   ]
  }
 ],
 "metadata": {
  "kaggle": {
   "accelerator": "none",
   "dataSources": [
    {
     "datasetId": 5725956,
     "sourceId": 9426131,
     "sourceType": "datasetVersion"
    }
   ],
   "dockerImageVersionId": 31012,
   "isGpuEnabled": false,
   "isInternetEnabled": false,
   "language": "python",
   "sourceType": "notebook"
  },
  "kernelspec": {
   "display_name": "Python 3",
   "language": "python",
   "name": "python3"
  },
  "language_info": {
   "codemirror_mode": {
    "name": "ipython",
    "version": 3
   },
   "file_extension": ".py",
   "mimetype": "text/x-python",
   "name": "python",
   "nbconvert_exporter": "python",
   "pygments_lexer": "ipython3",
   "version": "3.11.11"
  },
  "papermill": {
   "default_parameters": {},
   "duration": 596.049461,
   "end_time": "2025-04-11T17:58:43.965842",
   "environment_variables": {},
   "exception": null,
   "input_path": "__notebook__.ipynb",
   "output_path": "__notebook__.ipynb",
   "parameters": {},
   "start_time": "2025-04-11T17:48:47.916381",
   "version": "2.6.0"
  }
 },
 "nbformat": 4,
 "nbformat_minor": 5
}
